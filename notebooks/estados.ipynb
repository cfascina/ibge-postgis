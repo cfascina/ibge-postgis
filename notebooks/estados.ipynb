{
 "cells": [
  {
   "cell_type": "code",
   "execution_count": null,
   "id": "d2cd2a84",
   "metadata": {},
   "outputs": [],
   "source": [
    "import geopandas as gpd\n",
    "import os\n",
    "import psycopg2"
   ]
  },
  {
   "cell_type": "code",
   "execution_count": null,
   "id": "2906c5f0-7552-4242-8edd-70e89b34ed2f",
   "metadata": {},
   "outputs": [],
   "source": [
    "def open_connection():\n",
    "    conn = \\\n",
    "        psycopg2.connect( \\\n",
    "            host = 'localhost',\n",
    "            database = 'queroponto',\n",
    "            user = 'postgres',\n",
    "            password = 'postgres')\n",
    "    \n",
    "    conn.autocommit = True\n",
    "    cur = conn.cursor()\n",
    "    \n",
    "    return conn, cur"
   ]
  },
  {
   "cell_type": "code",
   "execution_count": null,
   "id": "327f98c5-b02e-4635-830d-0bc3f02a2bd6",
   "metadata": {},
   "outputs": [],
   "source": [
    "def close_connection(conn, cur):\n",
    "    cur.close()\n",
    "    conn.close()"
   ]
  },
  {
   "cell_type": "code",
   "execution_count": null,
   "id": "add1e583-9a8f-4ea6-b3a9-d0645394b874",
   "metadata": {},
   "outputs": [],
   "source": [
    "def get_state_data(state_id):\n",
    "    data = {\n",
    "        11: ['RO', 'Rondônia'],\n",
    "        12: ['AC', 'Acre'],\n",
    "        13: ['AM', 'Amazonas'],\n",
    "        14: ['RR', 'Roraima'],\n",
    "        15: ['PA', 'Pará'],\n",
    "        16: ['AP', 'Amapá'],\n",
    "        17: ['TO', 'Tocantins'],\n",
    "        21: ['MA', 'Maranhão'],\n",
    "        22: ['PI', 'Piauí'],\n",
    "        23: ['CE', 'Ceará'],\n",
    "        24: ['RN', 'Rio Grande do Norte'],\n",
    "        25: ['PB', 'Paraíba'],\n",
    "        26: ['PE', 'Pernambuco'],\n",
    "        27: ['AL', 'Alagoas'],\n",
    "        28: ['SE', 'Sergipe'],\n",
    "        29: ['BA', 'Bahia'],\n",
    "        31: ['MG', 'Minas Gerais'],\n",
    "        32: ['ES', 'Espírito Santo'],\n",
    "        33: ['RJ', 'Rio de Janeiro'],\n",
    "        35: ['SP', 'São Paulo'],\n",
    "        41: ['PR', 'Paraná'],\n",
    "        42: ['SC', 'Santa Catarina'],\n",
    "        43: ['RS', 'Rio Grande do Sul'],\n",
    "        50: ['MS', 'Mato Grosso do Sul'],\n",
    "        51: ['MT', 'Mato Grosso'],\n",
    "        52: ['GO', 'Goiás'],\n",
    "        53: ['DF', 'Distrito Federal']\n",
    "    }\n",
    "    \n",
    "    return data[state_id][0], data[state_id][1]"
   ]
  },
  {
   "cell_type": "code",
   "execution_count": null,
   "id": "f31457ee-37e8-4d41-88c6-0f3af167b7a1",
   "metadata": {},
   "outputs": [],
   "source": [
    "def insert_data(cur, values):\n",
    "    query = f\" \\\n",
    "        INSERT INTO public.estados (cod_ibge, id_regiao, nome, sigla, geom) VALUES ( \\\n",
    "            {values[0]}, \\\n",
    "            {values[1]}, \\\n",
    "            '{values[2]}', \\\n",
    "            '{values[3]}', \\\n",
    "            ST_GeomFromText('{values[4]}', 4326) \\\n",
    "        );\"\n",
    "    \n",
    "    cur.execute(query)"
   ]
  },
  {
   "cell_type": "markdown",
   "id": "ce9ffb88-097c-47bf-8a4c-5b25644aefd1",
   "metadata": {},
   "source": [
    "---"
   ]
  },
  {
   "cell_type": "code",
   "execution_count": null,
   "id": "1543bcc7-11da-4cd8-9e7f-eebef1787e86",
   "metadata": {},
   "outputs": [],
   "source": [
    "path = '../arquivos/ibge/estados'"
   ]
  },
  {
   "cell_type": "code",
   "execution_count": null,
   "id": "405bfb11-a3b1-4275-a47c-44fb2ecfe776",
   "metadata": {},
   "outputs": [],
   "source": [
    "folders = os.listdir(path)"
   ]
  },
  {
   "cell_type": "code",
   "execution_count": null,
   "id": "fb006e91-c71a-413d-a488-802a4cff7c62",
   "metadata": {},
   "outputs": [],
   "source": [
    "conn, cur = open_connection()"
   ]
  },
  {
   "cell_type": "code",
   "execution_count": null,
   "id": "9eb296f1-134c-4d4c-aa8a-ca03d7afa7aa",
   "metadata": {},
   "outputs": [],
   "source": [
    "for folder in folders:\n",
    "    for file in os.listdir(f\"{path}/{folder}\"):\n",
    "        if file.split('.')[-1] == 'shp':\n",
    "            gdf = gpd.read_file(f\"{path}/{folder}/{file}\")\n",
    "            \n",
    "            for row in gdf.itertuples():\n",
    "                acronym, name = get_state_data(int(row[2]))\n",
    "                values = [int(row[2]), int(row[2][:1]), name, acronym, row[5]]\n",
    "                \n",
    "                insert_data(cur, values)"
   ]
  },
  {
   "cell_type": "code",
   "execution_count": null,
   "id": "9bed0c37-db46-40c0-bf9b-378347dfd497",
   "metadata": {},
   "outputs": [],
   "source": [
    "close_connection(conn, cur)"
   ]
  }
 ],
 "metadata": {
  "kernelspec": {
   "display_name": "Python 3.8.10 ('.venv': venv)",
   "language": "python",
   "name": "python3810jvsc74a57bd0d042c0f8cf2cbf3fc3853e40e17860ef2f5f3af1aa87cf2b65d717551d220c91"
  },
  "language_info": {
   "codemirror_mode": {
    "name": "ipython",
    "version": 3
   },
   "file_extension": ".py",
   "mimetype": "text/x-python",
   "name": "python",
   "nbconvert_exporter": "python",
   "pygments_lexer": "ipython3",
   "version": "3.8.10"
  }
 },
 "nbformat": 4,
 "nbformat_minor": 5
}
