{
 "cells": [
  {
   "cell_type": "code",
   "execution_count": null,
   "id": "3e2fbe5b-b962-46ab-bae6-e6ed3451c3b5",
   "metadata": {},
   "outputs": [],
   "source": [
    "import geopandas as gpd\n",
    "import os\n",
    "import psycopg2"
   ]
  },
  {
   "cell_type": "code",
   "execution_count": null,
   "id": "44952f91-83a1-42a9-b882-a44d763b4ffc",
   "metadata": {},
   "outputs": [],
   "source": [
    "def open_connection():\n",
    "    conn = \\\n",
    "        psycopg2.connect( \\\n",
    "            host = 'localhost',\n",
    "            database = 'queroponto',\n",
    "            user = 'postgres',\n",
    "            password = 'postgres')\n",
    "    \n",
    "    conn.autocommit = True\n",
    "    cur = conn.cursor()\n",
    "    \n",
    "    return conn, cur"
   ]
  },
  {
   "cell_type": "code",
   "execution_count": null,
   "id": "3206b56d-edb2-4dc2-b85a-2772a1c64562",
   "metadata": {},
   "outputs": [],
   "source": [
    "def close_connection(conn, cur):\n",
    "    cur.close()\n",
    "    conn.close()"
   ]
  },
  {
   "cell_type": "code",
   "execution_count": null,
   "id": "2831385b-4b0f-44a1-b900-71caeedbd6c8",
   "metadata": {},
   "outputs": [],
   "source": [
    "def insert_data(cur, values):\n",
    "    query = f\" \\\n",
    "        INSERT INTO public.setores_censitarios (cod_ibge, id_cidade, geom) VALUES \\\n",
    "        ({values[0]}, {values[1]}, ST_GeomFromText('{values[2]}', 4326));\";\n",
    "\n",
    "    try:\n",
    "        cur.execute(query)\n",
    "    except Exception as e:\n",
    "        print(f\"Failed to insert: {query}\")\n",
    "        print(e)"
   ]
  },
  {
   "cell_type": "markdown",
   "id": "ffa8ff4b-ba96-4395-a8db-dafd1075ac27",
   "metadata": {},
   "source": [
    "---"
   ]
  },
  {
   "cell_type": "code",
   "execution_count": null,
   "id": "60281370-9e34-472e-911d-e9fbcb5713ec",
   "metadata": {
    "tags": []
   },
   "outputs": [],
   "source": [
    "path = '../arquivos/ibge/setores-censitarios'"
   ]
  },
  {
   "cell_type": "code",
   "execution_count": null,
   "id": "b3767504-e367-4947-9bf3-4e715044ef30",
   "metadata": {},
   "outputs": [],
   "source": [
    "folders = os.listdir(path)"
   ]
  },
  {
   "cell_type": "code",
   "execution_count": null,
   "id": "72f29022-4166-4c30-ba65-21afa47113b0",
   "metadata": {},
   "outputs": [],
   "source": [
    "conn, cur = open_connection()"
   ]
  },
  {
   "cell_type": "code",
   "execution_count": null,
   "id": "1242d697-e6cd-4e24-86d1-7e2d2d549033",
   "metadata": {},
   "outputs": [],
   "source": [
    "for folder in folders:\n",
    "    for file in os.listdir(f\"{path}/{folder}\"):\n",
    "        if file.split('.')[-1] == 'shp':\n",
    "            gdf = gpd.read_file(f\"{path}/{folder}/{file}\")\n",
    "            \n",
    "            for row in gdf.itertuples():\n",
    "                try:\n",
    "                    values = [int(row[2]), int(row[2][:7]), row[-1]]\n",
    "                    insert_data(cur, values)\n",
    "                except Exception as e:\n",
    "                    print(f\"Failed to insert: {folder}/{file}/{row}\")\n",
    "                    print(e)"
   ]
  },
  {
   "cell_type": "code",
   "execution_count": null,
   "id": "f6d1d56a-346e-4827-819f-2df6afa7f992",
   "metadata": {},
   "outputs": [],
   "source": [
    "close_connection(conn, cur)"
   ]
  }
 ],
 "metadata": {
  "kernelspec": {
   "display_name": "Python 3.8.10 ('.venv': venv)",
   "language": "python",
   "name": "python3810jvsc74a57bd0d042c0f8cf2cbf3fc3853e40e17860ef2f5f3af1aa87cf2b65d717551d220c91"
  },
  "language_info": {
   "codemirror_mode": {
    "name": "ipython",
    "version": 3
   },
   "file_extension": ".py",
   "mimetype": "text/x-python",
   "name": "python",
   "nbconvert_exporter": "python",
   "pygments_lexer": "ipython3",
   "version": "3.8.10"
  }
 },
 "nbformat": 4,
 "nbformat_minor": 5
}
