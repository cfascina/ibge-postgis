{
 "cells": [
  {
   "cell_type": "code",
   "execution_count": null,
   "id": "c68f9f63-acdd-4b0b-9f1a-09f2d408b1bc",
   "metadata": {},
   "outputs": [],
   "source": [
    "import logging\n",
    "import os\n",
    "import pandas as pd\n",
    "import psycopg2"
   ]
  },
  {
   "cell_type": "code",
   "execution_count": null,
   "id": "3e27935c-0af5-469e-91a8-ac9a2b3a96b4",
   "metadata": {},
   "outputs": [],
   "source": [
    "def open_connection():\n",
    "    conn = \\\n",
    "        psycopg2.connect( \\\n",
    "            host = 'localhost',\n",
    "            database = 'queroponto',\n",
    "            user = 'postgres',\n",
    "            password = 'postgres')\n",
    "\n",
    "    cur = conn.cursor()\n",
    "    \n",
    "    return conn, cur"
   ]
  },
  {
   "cell_type": "code",
   "execution_count": null,
   "id": "ed446473-7954-4634-972a-450d9b2f55c7",
   "metadata": {},
   "outputs": [],
   "source": [
    "def close_connection(conn, cur):\n",
    "    cur.close()\n",
    "    conn.close()"
   ]
  },
  {
   "cell_type": "code",
   "execution_count": null,
   "id": "490ec489-48e7-49cc-81fe-8242ebdadddb",
   "metadata": {},
   "outputs": [],
   "source": [
    "def insert_data(conn, cur, table, id_sector, data):\n",
    "    col_names = ', '.join([f\"\\\"{item[0]}\\\"\" for item in data])\n",
    "    col_values = ['NULL' if item[1] != item[1] else item[1] for item in data]\n",
    "    col_values = ', '.join(map(str, [item for item in col_values]))\n",
    "    \n",
    "    query = f\"INSERT INTO public.{table} (id_setor_censitario, {col_names}) VALUES ({id_sector}, {col_values});\"\n",
    "    \n",
    "    try:\n",
    "        cur.execute(query)\n",
    "    except psycopg2.IntegrityError as e:\n",
    "        conn.rollback()\n",
    "        logger.error(f\"Failed: {e}\")\n",
    "    else:\n",
    "        conn.commit()"
   ]
  },
  {
   "cell_type": "markdown",
   "id": "f974e76b-351d-466c-baa2-442d35dff15d",
   "metadata": {},
   "source": [
    "---"
   ]
  },
  {
   "cell_type": "code",
   "execution_count": null,
   "id": "c0e049e4-0931-4586-bc41-73ea1a97a519",
   "metadata": {},
   "outputs": [],
   "source": [
    "logger = logging.getLogger()\n",
    "handler = logging.StreamHandler()\n",
    "formatter = logging.Formatter('%(asctime)s %(name)s %(levelname)s %(message)s')\n",
    "handler.setFormatter(formatter)\n",
    "logger.addHandler(handler)\n",
    "logger.setLevel(logging.INFO)"
   ]
  },
  {
   "cell_type": "code",
   "execution_count": null,
   "id": "9324e336-35e8-43d2-8578-44456258896b",
   "metadata": {},
   "outputs": [],
   "source": [
    "# file = '../arquivos/csv/AC.csv'\n",
    "# file = '../arquivos/csv/AL.csv'\n",
    "# file = '../arquivos/csv/AM.csv'\n",
    "# file = '../arquivos/csv/AP.csv'\n",
    "# file = '../arquivos/csv/BA.csv'\n",
    "# file = '../arquivos/csv/CE.csv'\n",
    "# file = '../arquivos/csv/DF.csv'\n",
    "# file = '../arquivos/csv/ES.csv'\n",
    "# file = '../arquivos/csv/GO.csv'\n",
    "# file = '../arquivos/csv/MA.csv'\n",
    "# file = '../arquivos/csv/MG.csv'\n",
    "# file = '../arquivos/csv/MS.csv'\n",
    "# file = '../arquivos/csv/MT.csv'\n",
    "# file = '../arquivos/csv/PA.csv'\n",
    "# file = '../arquivos/csv/PB.csv'\n",
    "# file = '../arquivos/csv/PE.csv'\n",
    "# file = '../arquivos/csv/PI.csv'\n",
    "# file = '../arquivos/csv/PR.csv'\n",
    "# file = '../arquivos/csv/RJ.csv'\n",
    "# file = '../arquivos/csv/RN.csv'\n",
    "# file = '../arquivos/csv/RO.csv'\n",
    "# file = '../arquivos/csv/RR.csv'\n",
    "# file = '../arquivos/csv/RS.csv'\n",
    "# file = '../arquivos/csv/SE.csv'\n",
    "# file = '../arquivos/csv/SP.csv'\n",
    "# file = '../arquivos/csv/TO.csv'\n",
    "# -------------------------------\n",
    "# file = '../arquivos/csv/SC.csv'"
   ]
  },
  {
   "cell_type": "code",
   "execution_count": null,
   "id": "35e9716a-21aa-4589-af63-f6cb662dfcbb",
   "metadata": {},
   "outputs": [],
   "source": [
    "df = pd.read_csv(file, low_memory = False)"
   ]
  },
  {
   "cell_type": "code",
   "execution_count": null,
   "id": "63faeb65-d1b5-4a86-9498-77bc5b7af6c8",
   "metadata": {},
   "outputs": [],
   "source": [
    "logger.info(f\"{file.split('/')[-1]} with {len(df)} rows.\")"
   ]
  },
  {
   "cell_type": "code",
   "execution_count": null,
   "id": "c49196e7-9df2-4184-989d-9f0c7163b34a",
   "metadata": {},
   "outputs": [],
   "source": [
    "df = df.apply(pd.to_numeric, errors = 'coerce')"
   ]
  },
  {
   "cell_type": "code",
   "execution_count": null,
   "id": "262125b4-bb5b-4fed-b8b7-f520c75d56ea",
   "metadata": {},
   "outputs": [],
   "source": [
    "cols = [\n",
    "    {\"00_04\": [\"P11_V024\", \"P11_V025\", \"P11_V026\", \"P11_V025\", \"P11_V026\", \n",
    "               \"P11_V027\", \"P11_V028\", \"P11_V029\", \"P11_V030\", \"P11_V031\", \n",
    "               \"P11_V032\", \"P11_V033\", \"P11_V034\", \"P11_V035\", \"P11_V036\", \n",
    "               \"P11_V037\", \"P11_V038\"]},\n",
    "    {\"05_09\": [\"P11_V039\", \"P11_V040\", \"P11_V041\", \"P11_V042\", \"P11_V043\"]},\n",
    "    {\"10_14\": [\"P11_V044\", \"P11_V045\", \"P11_V046\", \"P11_V047\", \"P11_V048\"]},\n",
    "    {\"15_19\": [\"P11_V049\", \"P11_V050\", \"P11_V051\", \"P11_V052\", \"P11_V053\"]},\n",
    "    {\"20_24\": [\"P11_V054\", \"P11_V055\", \"P11_V056\", \"P11_V057\", \"P11_V058\"]},\n",
    "    {\"25_29\": [\"P11_V059\", \"P11_V060\", \"P11_V061\", \"P11_V062\", \"P11_V063\"]},\n",
    "    {\"30_34\": [\"P11_V064\", \"P11_V065\", \"P11_V066\", \"P11_V067\", \"P11_V068\"]},\n",
    "    {\"35_39\": [\"P11_V069\", \"P11_V070\", \"P11_V071\", \"P11_V072\", \"P11_V073\"]},\n",
    "    {\"40_44\": [\"P11_V074\", \"P11_V075\", \"P11_V076\", \"P11_V077\", \"P11_V078\"]},\n",
    "    {\"45_49\": [\"P11_V079\", \"P11_V080\", \"P11_V081\", \"P11_V082\", \"P11_V083\"]},\n",
    "    {\"50_54\": [\"P11_V084\", \"P11_V085\", \"P11_V086\", \"P11_V087\", \"P11_V088\"]},\n",
    "    {\"55_59\": [\"P11_V089\", \"P11_V090\", \"P11_V091\", \"P11_V092\", \"P11_V093\"]},\n",
    "    {\"60_64\": [\"P11_V094\", \"P11_V095\", \"P11_V096\", \"P11_V097\", \"P11_V098\"]},\n",
    "    {\"65_69\": [\"P11_V099\", \"P11_V100\", \"P11_V101\", \"P11_V102\", \"P11_V103\"]},\n",
    "    {\"70_74\": [\"P11_V104\", \"P11_V105\", \"P11_V106\", \"P11_V107\", \"P11_V108\"]},\n",
    "    {\"75_79\": [\"P11_V109\", \"P11_V110\", \"P11_V111\", \"P11_V112\", \"P11_V113\"]},\n",
    "    {\"80_84\": [\"P11_V114\", \"P11_V115\", \"P11_V116\", \"P11_V117\", \"P11_V118\"]},\n",
    "    {\"85_89\": [\"P11_V119\", \"P11_V120\", \"P11_V121\", \"P11_V122\", \"P11_V123\"]},\n",
    "    {\"90_94\": [\"P11_V124\", \"P11_V125\", \"P11_V126\", \"P11_V127\", \"P11_V128\"]},\n",
    "    {\"95_99\": [\"P11_V129\", \"P11_V130\", \"P11_V131\", \"P11_V132\", \"P11_V133\"]},\n",
    "    {\"100\": [\"P11_V134\"]}\n",
    "]"
   ]
  },
  {
   "cell_type": "code",
   "execution_count": null,
   "id": "a835dc8a-73d5-413d-90c2-c3c14a82f57b",
   "metadata": {},
   "outputs": [],
   "source": [
    "conn, cur = open_connection()"
   ]
  },
  {
   "cell_type": "code",
   "execution_count": null,
   "id": "899df49d-6b96-4a27-bef2-90ea77731312",
   "metadata": {},
   "outputs": [],
   "source": [
    "%%time\n",
    "for index, row in df.iterrows():\n",
    "    data = []\n",
    "    \n",
    "    for col in cols:\n",
    "        for key, values in col.items():\n",
    "            values = [float(row[value]) for value in values]\n",
    "            result = sum(values)\n",
    "            data.append([key, result])\n",
    "    \n",
    "    # logger.info(f\"Inserting row {index}...\")\n",
    "    insert_data(conn, cur, 'populacao_residente_mas', int(row['Cod_str']), data)"
   ]
  },
  {
   "cell_type": "code",
   "execution_count": null,
   "id": "4e3e8ae6-df98-4ca7-a946-73ef0dd5841d",
   "metadata": {},
   "outputs": [],
   "source": [
    "close_connection(conn, cur)"
   ]
  }
 ],
 "metadata": {
  "kernelspec": {
   "display_name": "Python 3.8.10 ('.venv': venv)",
   "language": "python",
   "name": "python3810jvsc74a57bd0d042c0f8cf2cbf3fc3853e40e17860ef2f5f3af1aa87cf2b65d717551d220c91"
  },
  "language_info": {
   "codemirror_mode": {
    "name": "ipython",
    "version": 3
   },
   "file_extension": ".py",
   "mimetype": "text/x-python",
   "name": "python",
   "nbconvert_exporter": "python",
   "pygments_lexer": "ipython3",
   "version": "3.8.10"
  }
 },
 "nbformat": 4,
 "nbformat_minor": 5
}
