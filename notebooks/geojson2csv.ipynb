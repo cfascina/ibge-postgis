{
 "cells": [
  {
   "cell_type": "code",
   "execution_count": null,
   "id": "b67c7f23-dd2b-44e5-b77b-d8c0c9733aaa",
   "metadata": {},
   "outputs": [],
   "source": [
    "import geopandas as gpd\n",
    "import os"
   ]
  },
  {
   "cell_type": "code",
   "execution_count": null,
   "id": "8b1444ba-156d-4eaf-a882-5250d6f037ee",
   "metadata": {},
   "outputs": [],
   "source": [
    "path = '../arquivos/demografia'"
   ]
  },
  {
   "cell_type": "code",
   "execution_count": null,
   "id": "5e269dd2-d28e-45df-ab7c-3eea7d1b4417",
   "metadata": {},
   "outputs": [],
   "source": [
    "for file in os.listdir(path):\n",
    "    if file.split('.')[-1] == 'geojson':\n",
    "        name = file.split('.')[0]\n",
    "        \n",
    "        print(f\"Reading file {file}...\")\n",
    "        gdf = gpd.read_file(f\"{path}/{file}\")\n",
    "        \n",
    "        try:\n",
    "            print(f\"Converting...\")\n",
    "            gdf.drop(columns = ['X_1', 'geometry'], inplace = True)\n",
    "            gdf.to_csv(f\"{path}/{name}.csv\")\n",
    "        except Exception as e:\n",
    "            print(f\"Failed to create file: {path}/{name}.csv\")\n",
    "            print(e)\n",
    "            \n",
    "        print('Done.')"
   ]
  }
 ],
 "metadata": {
  "kernelspec": {
   "display_name": "Python 3.8.10 ('.venv': venv)",
   "language": "python",
   "name": "python3810jvsc74a57bd0d042c0f8cf2cbf3fc3853e40e17860ef2f5f3af1aa87cf2b65d717551d220c91"
  },
  "language_info": {
   "codemirror_mode": {
    "name": "ipython",
    "version": 3
   },
   "file_extension": ".py",
   "mimetype": "text/x-python",
   "name": "python",
   "nbconvert_exporter": "python",
   "pygments_lexer": "ipython3",
   "version": "3.8.10"
  }
 },
 "nbformat": 4,
 "nbformat_minor": 5
}
