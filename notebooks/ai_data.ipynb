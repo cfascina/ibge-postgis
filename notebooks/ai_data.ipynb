{
 "cells": [
  {
   "cell_type": "code",
   "execution_count": 1,
   "id": "a6a51465-88a8-4375-b9bd-91d95c47c5a2",
   "metadata": {},
   "outputs": [],
   "source": [
    "import flexpolyline as fp\n",
    "import geopandas as gpd\n",
    "import logging\n",
    "import pandas as pd\n",
    "import psycopg2\n",
    "import requests\n",
    "from shapely.geometry import Polygon"
   ]
  },
  {
   "cell_type": "code",
   "execution_count": 2,
   "id": "fa8f4e84-3049-4310-bd59-77c514169686",
   "metadata": {},
   "outputs": [],
   "source": [
    "def open_connection():\n",
    "    conn = \\\n",
    "        psycopg2.connect( \\\n",
    "            host = 'localhost',\n",
    "            database = 'queroponto',\n",
    "            user = 'postgres',\n",
    "            password = 'postgres')\n",
    "\n",
    "    cur = conn.cursor()\n",
    "    \n",
    "    return conn, cur"
   ]
  },
  {
   "cell_type": "code",
   "execution_count": 3,
   "id": "ffef96b4-738d-45b4-a52c-3aa79ba79ea2",
   "metadata": {},
   "outputs": [],
   "source": [
    "def close_connection(conn, cur):\n",
    "    cur.close()\n",
    "    conn.close()"
   ]
  },
  {
   "cell_type": "code",
   "execution_count": 4,
   "id": "1cf0f2ad-989d-415c-8b8e-3f7c558db97f",
   "metadata": {},
   "outputs": [],
   "source": [
    "def get_ia(origin):\n",
    "    payload = {\n",
    "        'apiKey': 'KDUbLze9c55M07_jhPSR750KYGk9UxfX42DItWJWV8Y',\n",
    "        'origin': origin,\n",
    "        'range[type]': 'time',\n",
    "        'range[values]': '300',\n",
    "        'transportMode': 'car'\n",
    "    }\n",
    "\n",
    "    req = requests.get('https://isoline.router.hereapi.com/v8/isolines', params = payload)\n",
    "    response = req.json()\n",
    "\n",
    "    for item in response['isolines']:\n",
    "        polygon = fp.decode(item['polygons'][0]['outer'])\n",
    "        coords = [[coord[1], coord[0]] for coord in polygon]\n",
    "\n",
    "    gdf = gpd.GeoDataFrame(geometry = [Polygon(coords)], crs = 'EPSG:4326')\n",
    "\n",
    "    return gdf"
   ]
  },
  {
   "cell_type": "code",
   "execution_count": 5,
   "id": "3f872a9a-79a2-4eb6-9acb-71147a63dfe0",
   "metadata": {},
   "outputs": [],
   "source": [
    "def get_sectors(conn, cur, polygon):\n",
    "    query = f\" \\\n",
    "        SELECT SC.cod_ibge \\\n",
    "        FROM PUBLIC.setores_censitarios AS SC \\\n",
    "        WHERE ST_Intersects(SC.geom, \\'SRID=4326;{polygon}\\');\"\n",
    "    \n",
    "    try:\n",
    "        cur.execute(query)\n",
    "        result = [row[0] for row in cur.fetchall()]\n",
    "    except psycopg2.Error as e:\n",
    "        logger.error(f\"Failed: {e}\")\n",
    "        \n",
    "    return result"
   ]
  },
  {
   "cell_type": "code",
   "execution_count": 6,
   "id": "abb199ac-6cf9-46f2-89e1-eec0e2a562f7",
   "metadata": {},
   "outputs": [],
   "source": [
    "def get_data(conn, cur, sectors):\n",
    "    sectors = ', '.join(map(str, [sector for sector in sectors]))\n",
    "    \n",
    "    query = f\" \\\n",
    "        SELECT \\\n",
    "          \tSC.id_municipio   AS ID_MUNICIPIO, \\\n",
    "            SC.cod_ibge       AS ID_SETOR_CENSITARIO, \\\n",
    "            PRM.\\\"00_04\\\"     AS PRM_00_04, \\\n",
    "            PRM.\\\"05_09\\\"     AS PRM_05_09, \\\n",
    "            PRM.\\\"10_14\\\"     AS PRM_10_14, \\\n",
    "            PRM.\\\"15_19\\\"     AS PRM_15_19, \\\n",
    "            PRM.\\\"20_24\\\"     AS PRM_20_24, \\\n",
    "            PRM.\\\"25_29\\\"     AS PRM_25_29, \\\n",
    "            PRM.\\\"30_34\\\"     AS PRM_30_34, \\\n",
    "            PRM.\\\"35_39\\\"     AS PRM_35_39, \\\n",
    "            PRM.\\\"40_44\\\"     AS PRM_40_44, \\\n",
    "            PRM.\\\"45_49\\\"     AS PRM_45_49, \\\n",
    "            PRM.\\\"50_54\\\"     AS PRM_50_54, \\\n",
    "            PRM.\\\"55_59\\\"     AS PRM_55_59, \\\n",
    "            PRM.\\\"60_64\\\"     AS PRM_60_64, \\\n",
    "            PRM.\\\"65_69\\\"     AS PRM_65_69, \\\n",
    "            PRM.\\\"70_74\\\"     AS PRM_70_74, \\\n",
    "            PRM.\\\"75_79\\\"     AS PRM_75_79, \\\n",
    "            PRM.\\\"80_84\\\"     AS PRM_80_84, \\\n",
    "            PRM.\\\"85_89\\\"     AS PRM_85_89, \\\n",
    "            PRM.\\\"90_94\\\"     AS PRM_90_94, \\\n",
    "            PRM.\\\"95_99\\\"     AS PRM_95_99, \\\n",
    "            PRM.\\\"100\\\"       AS PRM_100, \\\n",
    "            PRF.\\\"00_04\\\"     AS PRF_00_04, \\\n",
    "            PRF.\\\"05_09\\\"     AS PRF_05_09, \\\n",
    "            PRF.\\\"10_14\\\"     AS PRF_10_14, \\\n",
    "            PRF.\\\"15_19\\\"     AS PRF_15_19, \\\n",
    "            PRF.\\\"20_24\\\"     AS PRF_20_24, \\\n",
    "            PRF.\\\"25_29\\\"     AS PRF_25_29, \\\n",
    "            PRF.\\\"30_34\\\"     AS PRF_30_34, \\\n",
    "            PRF.\\\"35_39\\\"     AS PRF_35_39, \\\n",
    "            PRF.\\\"40_44\\\"     AS PRF_40_44, \\\n",
    "            PRF.\\\"45_49\\\"     AS PRF_45_49, \\\n",
    "            PRF.\\\"50_54\\\"     AS PRF_50_54, \\\n",
    "            PRF.\\\"55_59\\\"     AS PRF_55_59, \\\n",
    "            PRF.\\\"60_64\\\"     AS PRF_60_64, \\\n",
    "            PRF.\\\"65_69\\\"     AS PRF_65_69, \\\n",
    "            PRF.\\\"70_74\\\"     AS PRF_70_74, \\\n",
    "            PRF.\\\"75_79\\\"     AS PRF_75_79, \\\n",
    "            PRF.\\\"80_84\\\"     AS PRF_80_84, \\\n",
    "            PRF.\\\"85_89\\\"     AS PRF_85_89, \\\n",
    "            PRF.\\\"90_94\\\"     AS PRF_90_94, \\\n",
    "            PRF.\\\"95_99\\\"     AS PRF_95_99, \\\n",
    "            PRF.\\\"100\\\"       AS PRF_100, \\\n",
    "            PIA.\\\"masculina\\\" AS PIA_M, \\\n",
    "            PIA.\\\"feminina\\\"  AS PIA_F, \\\n",
    "            PIA.\\\"total\\\"     AS PIA_T, \\\n",
    "            RS.\\\"00_04\\\"      AS RS_00_04, \\\n",
    "            RS.\\\"05_09\\\"      AS RS_05_09, \\\n",
    "            RS.\\\"10_14\\\"      AS RS_10_14, \\\n",
    "            RS.\\\"15_19\\\"      AS RS_15_19, \\\n",
    "            RS.\\\"20_24\\\"      AS RS_20_24, \\\n",
    "            RS.\\\"25_29\\\"      AS RS_25_29, \\\n",
    "            RS.\\\"30_34\\\"      AS RS_30_34, \\\n",
    "            RS.\\\"35_39\\\"      AS RS_35_39, \\\n",
    "            RS.\\\"40_44\\\"      AS RS_40_44, \\\n",
    "            RS.\\\"45_49\\\"      AS RS_45_49, \\\n",
    "            RS.\\\"50_54\\\"      AS RS_50_54, \\\n",
    "            RS.\\\"55_59\\\"      AS RS_55_59, \\\n",
    "            RS.\\\"60_64\\\"      AS RS_60_64, \\\n",
    "            RS.\\\"65_69\\\"      AS RS_65_69, \\\n",
    "            RS.\\\"70_74\\\"      AS RS_70_74, \\\n",
    "            RS.\\\"75_79\\\"      AS RS_75_79, \\\n",
    "            RS.\\\"80_84\\\"      AS RS_80_84, \\\n",
    "            RS.\\\"85_89\\\"      AS RS_85_89, \\\n",
    "            RS.\\\"90_94\\\"      AS RS_90_94, \\\n",
    "            RS.\\\"95_99\\\"      AS RS_95_99, \\\n",
    "            RS.\\\"100\\\"        AS RS_100, \\\n",
    "            IE.\\\"masculino\\\"  AS IE_M, \\\n",
    "            IE.\\\"feminino\\\"   AS IE_F, \\\n",
    "            DR.\\\"classe_ab\\\"  AS DR_CLASSE_AB, \\\n",
    "            DR.\\\"classe_c\\\"   AS DR_CLASSE_C, \\\n",
    "            DR.\\\"classe_d\\\"   AS DR_CLASSE_D, \\\n",
    "            DR.\\\"classe_e\\\"   AS DR_CLASSE_E, \\\n",
    "            RR.\\\"classe_a\\\"   AS RR_CLASSE_A, \\\n",
    "            RR.\\\"classe_b\\\"   AS RR_CLASSE_B, \\\n",
    "            RR.\\\"classe_c\\\"   AS RR_CLASSE_C, \\\n",
    "            RR.\\\"classe_d\\\"   AS RR_CLASSE_D, \\\n",
    "            RR.\\\"classe_e\\\"   AS RR_CLASSE_E \\\n",
    "        FROM PUBLIC.setores_censitarios AS SC \\\n",
    "        JOIN PUBLIC.populacao_residente_mas AS PRM ON SC.cod_ibge = PRM.id_setor_censitario \\\n",
    "        JOIN PUBLIC.populacao_residente_fem AS PRF ON SC.cod_ibge = PRF.id_setor_censitario \\\n",
    "        JOIN PUBLIC.populacao_idade_ativa AS PIA ON SC.cod_ibge = PIA.id_setor_censitario \\\n",
    "        JOIN PUBLIC.razao_sexo AS RS ON SC.cod_ibge = RS.id_setor_censitario \\\n",
    "        JOIN PUBLIC.indice_envelhecimento AS IE ON SC.cod_ibge = IE.id_setor_censitario \\\n",
    "        JOIN PUBLIC.domicilio_renda AS DR ON SC.cod_ibge = DR.id_setor_censitario \\\n",
    "        JOIN PUBLIC.responsavel_renda AS RR ON SC.cod_ibge = RR.id_setor_censitario \\\n",
    "        WHERE SC.cod_ibge IN({sectors});\"\n",
    "        \n",
    "    try:\n",
    "        cur.execute(query)\n",
    "        result = cur.fetchall()\n",
    "    except psycopg2.Error as e:\n",
    "        logger.error(f\"Failed: {e}\")\n",
    "        \n",
    "    return result"
   ]
  },
  {
   "cell_type": "markdown",
   "id": "29368324-684b-492b-8c42-10dfe4cc76f6",
   "metadata": {},
   "source": [
    "---"
   ]
  },
  {
   "cell_type": "code",
   "execution_count": 7,
   "id": "55b05604-2671-4be9-82d4-4759b95d5666",
   "metadata": {},
   "outputs": [],
   "source": [
    "logger = logging.getLogger()\n",
    "handler = logging.StreamHandler()\n",
    "formatter = logging.Formatter('%(asctime)s %(name)s %(levelname)s %(message)s')\n",
    "handler.setFormatter(formatter)\n",
    "logger.addHandler(handler)\n",
    "logger.setLevel(logging.INFO)"
   ]
  },
  {
   "cell_type": "code",
   "execution_count": 8,
   "id": "5c36e1e5-d49f-4b5b-87de-c5648d7ad2ce",
   "metadata": {},
   "outputs": [],
   "source": [
    "# poi = ['loja-01', '-9.756869999999969,-36.65935070000001']   # - OK\n",
    "# poi = ['loja-02', '-9.75257,-36.659500400000006']            # - OK\n",
    "# poi = ['loja-03', '-10.28169279999999,-36.56296889999999']   # - OK\n",
    "# poi = ['loja-04', '-9.731959199999986,-36.67763079999998']   # - OK\n",
    "# poi = ['loja-05', '-9.759829900000007,-36.6605428']          # - OK\n",
    "# poi = ['loja-07', '-10.291947200000006,-36.584740900000014'] # - OK\n",
    "# poi = ['loja-08', '-9.654918600000004,-35.73275409999996']   # - OK\n",
    "# poi = ['loja-09', '-9.744153799999998,-36.65529809999997']   # - OK\n",
    "# poi = ['loja-10', '-9.407226299999992,-36.63035589999999']   # - OK\n",
    "# poi = ['loja-11', '-9.408816599999975,-36.63168619999999']   # - OK\n",
    "# poi = ['loja-12', '-9.66127510000001,-35.702272699999995']   # - OK\n",
    "# poi = ['loja-14', '-9.757350399999988,-36.666036']           # - OK\n",
    "# poi = ['loja-15', '-9.78115669999999,-36.09609069999999']    # - OK\n",
    "# poi = ['loja-17', '-9.5332118,-37.29475300000001']           # - OK\n",
    "# poi = ['loja-18', '-9.762726999999984,-36.661038999999995']  # - OK\n",
    "# poi = ['loja-21', '-9.385276199999982,-37.99815710000002']   # - OK\n",
    "# poi = ['loja-22', '-9.407306500000011,-36.6316134']          # - OK"
   ]
  },
  {
   "cell_type": "code",
   "execution_count": 9,
   "id": "9af397c4-05ce-446a-9398-163802492ff0",
   "metadata": {},
   "outputs": [
    {
     "name": "stdout",
     "output_type": "stream",
     "text": [
      "CPU times: user 53.8 ms, sys: 8.87 ms, total: 62.7 ms\n",
      "Wall time: 769 ms\n"
     ]
    }
   ],
   "source": [
    "%%time\n",
    "polygon = get_ia(poi[1])"
   ]
  },
  {
   "cell_type": "code",
   "execution_count": 10,
   "id": "a89aee2e-76cc-4241-b6d1-cd63647a36be",
   "metadata": {},
   "outputs": [],
   "source": [
    "polygon = polygon['geometry'].to_wkt()[0]"
   ]
  },
  {
   "cell_type": "code",
   "execution_count": 11,
   "id": "d830f15d-6954-4b32-acd2-77a660b1ab31",
   "metadata": {},
   "outputs": [],
   "source": [
    "conn, cur = open_connection()"
   ]
  },
  {
   "cell_type": "code",
   "execution_count": 12,
   "id": "afdb9231-de80-43e1-a911-67c70c90dcc5",
   "metadata": {},
   "outputs": [],
   "source": [
    "sectors = get_sectors(conn, cur, polygon)"
   ]
  },
  {
   "cell_type": "code",
   "execution_count": 13,
   "id": "0695200d-88ec-440f-8ddf-d7890118b511",
   "metadata": {},
   "outputs": [
    {
     "name": "stdout",
     "output_type": "stream",
     "text": [
      "Found 48 sectors.\n"
     ]
    }
   ],
   "source": [
    "print(f\"Found {len(sectors)} sectors.\")"
   ]
  },
  {
   "cell_type": "code",
   "execution_count": 14,
   "id": "f850e3a8-b5b6-4b93-b6b2-b17c9e1cd5f9",
   "metadata": {},
   "outputs": [
    {
     "name": "stdout",
     "output_type": "stream",
     "text": [
      "CPU times: user 4.84 ms, sys: 0 ns, total: 4.84 ms\n",
      "Wall time: 81.7 ms\n"
     ]
    }
   ],
   "source": [
    "%%time\n",
    "ia_data = get_data(conn, cur, sectors)"
   ]
  },
  {
   "cell_type": "code",
   "execution_count": 15,
   "id": "a18257a6-713c-4b7b-af8d-93e69887c877",
   "metadata": {},
   "outputs": [],
   "source": [
    "cols = [desc[0].upper() for desc in cur.description]"
   ]
  },
  {
   "cell_type": "code",
   "execution_count": 16,
   "id": "b0019154-466c-49f7-b5b7-26206a95eff7",
   "metadata": {},
   "outputs": [],
   "source": [
    "close_connection(conn, cur)"
   ]
  },
  {
   "cell_type": "code",
   "execution_count": 17,
   "id": "652f2859-e2f3-42a4-bd10-aeeb96ead580",
   "metadata": {},
   "outputs": [],
   "source": [
    "df = pd.DataFrame(data = ia_data, columns = cols)"
   ]
  },
  {
   "cell_type": "code",
   "execution_count": 18,
   "id": "8a9f5453-96e2-4d46-b411-fb0ed25f24f6",
   "metadata": {},
   "outputs": [
    {
     "name": "stdout",
     "output_type": "stream",
     "text": [
      "Dataframe with 48 sectors.\n"
     ]
    }
   ],
   "source": [
    "print(f\"Dataframe with {len(df)} sectors.\")"
   ]
  },
  {
   "cell_type": "code",
   "execution_count": 19,
   "id": "d3104462-a69b-4d5a-bf8c-3eb0a8a011ec",
   "metadata": {},
   "outputs": [],
   "source": [
    "df.to_csv(f\"../files/query-results/{poi[0]}.csv\", index = False)"
   ]
  }
 ],
 "metadata": {
  "kernelspec": {
   "display_name": "Python 3 (ipykernel)",
   "language": "python",
   "name": "python3"
  },
  "language_info": {
   "codemirror_mode": {
    "name": "ipython",
    "version": 3
   },
   "file_extension": ".py",
   "mimetype": "text/x-python",
   "name": "python",
   "nbconvert_exporter": "python",
   "pygments_lexer": "ipython3",
   "version": "3.9.7"
  }
 },
 "nbformat": 4,
 "nbformat_minor": 5
}
