{
 "cells": [
  {
   "cell_type": "code",
   "execution_count": 1,
   "id": "a6a51465-88a8-4375-b9bd-91d95c47c5a2",
   "metadata": {},
   "outputs": [],
   "source": [
    "import flexpolyline as fp\n",
    "import geopandas as gpd\n",
    "import logging\n",
    "import pandas as pd\n",
    "import psycopg2\n",
    "import requests\n",
    "import shapely"
   ]
  },
  {
   "cell_type": "code",
   "execution_count": 2,
   "id": "fa8f4e84-3049-4310-bd59-77c514169686",
   "metadata": {},
   "outputs": [],
   "source": [
    "def open_connection():\n",
    "    conn = \\\n",
    "        psycopg2.connect( \\\n",
    "            host = 'localhost',\n",
    "            database = 'queroponto',\n",
    "            user = 'postgres',\n",
    "            password = 'postgres')\n",
    "\n",
    "    cur = conn.cursor()\n",
    "    \n",
    "    return conn, cur"
   ]
  },
  {
   "cell_type": "code",
   "execution_count": 3,
   "id": "ffef96b4-738d-45b4-a52c-3aa79ba79ea2",
   "metadata": {},
   "outputs": [],
   "source": [
    "def close_connection(conn, cur):\n",
    "    cur.close()\n",
    "    conn.close()"
   ]
  },
  {
   "cell_type": "code",
   "execution_count": 4,
   "id": "1cf0f2ad-989d-415c-8b8e-3f7c558db97f",
   "metadata": {},
   "outputs": [],
   "source": [
    "def get_ia(origin):\n",
    "    payload = {\n",
    "        'apiKey': 'KDUbLze9c55M07_jhPSR750KYGk9UxfX42DItWJWV8Y',\n",
    "        'origin': origin,\n",
    "        'range[type]': 'time',\n",
    "        'range[values]': '300',\n",
    "        'transportMode': 'car'\n",
    "    }\n",
    "\n",
    "    req = requests.get('https://isoline.router.hereapi.com/v8/isolines', params = payload)\n",
    "    response = req.json()\n",
    "\n",
    "    for item in response['isolines']:\n",
    "        polygon = fp.decode(item['polygons'][0]['outer'])\n",
    "        coords = [[coord[1], coord[0]] for coord in polygon]\n",
    "\n",
    "    gdf = gpd.GeoDataFrame(geometry = [shapely.Polygon(coords)], crs = 'EPSG:4326')\n",
    "\n",
    "    return gdf"
   ]
  },
  {
   "cell_type": "code",
   "execution_count": 5,
   "id": "3f872a9a-79a2-4eb6-9acb-71147a63dfe0",
   "metadata": {},
   "outputs": [],
   "source": [
    "def get_sectors(conn, cur, polygon):\n",
    "    query = f\" \\\n",
    "        SELECT SC.cod_ibge \\\n",
    "        FROM PUBLIC.setores_censitarios AS SC \\\n",
    "        WHERE ST_Intersects(SC.geom, \\'SRID=4326;{polygon}\\');\"\n",
    "    \n",
    "    try:\n",
    "        cur.execute(query)\n",
    "        result = [row[0] for row in cur.fetchall()]\n",
    "    except psycopg2.Error as e:\n",
    "        logger.error(f\"Failed: {e}\")\n",
    "        \n",
    "    return result"
   ]
  },
  {
   "cell_type": "code",
   "execution_count": 6,
   "id": "abb199ac-6cf9-46f2-89e1-eec0e2a562f7",
   "metadata": {},
   "outputs": [],
   "source": [
    "def get_data(conn, cur, sectors):\n",
    "    sectors = ', '.join(map(str, [sector for sector in sectors]))\n",
    "    \n",
    "    query = f\" \\\n",
    "        SELECT \\\n",
    "            SC.id_municipio, \\\n",
    "            SC.cod_ibge, \\\n",
    "            PRM.\\\"00_04\\\", PRM.\\\"05_09\\\", PRM.\\\"10_14\\\", PRM.\\\"15_19\\\", PRM.\\\"20_24\\\", PRM.\\\"25_29\\\", PRM.\\\"30_34\\\", \\\n",
    "            PRM.\\\"35_39\\\", PRM.\\\"40_44\\\", PRM.\\\"45_49\\\", PRM.\\\"50_54\\\", PRM.\\\"55_59\\\", PRM.\\\"60_64\\\", PRM.\\\"65_69\\\", \\\n",
    "            PRM.\\\"70_74\\\", PRM.\\\"75_79\\\", PRM.\\\"80_84\\\", PRM.\\\"85_89\\\", PRM.\\\"90_94\\\", PRM.\\\"95_99\\\", PRM.\\\"100\\\",   \\\n",
    "            PRF.\\\"00_04\\\", PRF.\\\"05_09\\\", PRF.\\\"10_14\\\", PRF.\\\"15_19\\\", PRF.\\\"20_24\\\", PRF.\\\"25_29\\\", PRF.\\\"30_34\\\", \\\n",
    "            PRF.\\\"35_39\\\", PRF.\\\"40_44\\\", PRF.\\\"45_49\\\", PRF.\\\"50_54\\\", PRF.\\\"55_59\\\", PRF.\\\"60_64\\\", PRF.\\\"65_69\\\", \\\n",
    "            PRF.\\\"70_74\\\", PRF.\\\"75_79\\\", PRF.\\\"80_84\\\", PRF.\\\"85_89\\\", PRF.\\\"90_94\\\", PRF.\\\"95_99\\\", PRF.\\\"100\\\",   \\\n",
    "            RS.\\\"00_04\\\", RS.\\\"05_09\\\", RS.\\\"10_14\\\", RS.\\\"15_19\\\", RS.\\\"20_24\\\", RS.\\\"25_29\\\", RS.\\\"30_34\\\", \\\n",
    "            RS.\\\"35_39\\\", RS.\\\"40_44\\\", RS.\\\"45_49\\\", RS.\\\"50_54\\\", RS.\\\"55_59\\\", RS.\\\"60_64\\\", RS.\\\"65_69\\\", \\\n",
    "            RS.\\\"70_74\\\", RS.\\\"75_79\\\", RS.\\\"80_84\\\", RS.\\\"85_89\\\", RS.\\\"90_94\\\", RS.\\\"95_99\\\", RS.\\\"100\\\",   \\\n",
    "            PIA.\\\"masculina\\\", PIA.\\\"feminina\\\", PIA.\\\"total\\\", \\\n",
    "            IE.\\\"masculino\\\", IE.\\\"feminino\\\", \\\n",
    "            DR.\\\"classe_ab\\\", DR.\\\"classe_c\\\", DR.\\\"classe_d\\\", DR.\\\"classe_e\\\", \\\n",
    "            RR.\\\"classe_a\\\", RR.\\\"classe_b\\\", RR.\\\"classe_c\\\", RR.\\\"classe_d\\\", RR.\\\"classe_e\\\" \\\n",
    "        FROM PUBLIC.setores_censitarios AS SC \\\n",
    "        JOIN PUBLIC.populacao_residente_mas AS PRM ON SC.cod_ibge = PRM.id_setor_censitario \\\n",
    "        JOIN PUBLIC.populacao_residente_fem AS PRF ON SC.cod_ibge = PRF.id_setor_censitario \\\n",
    "        JOIN PUBLIC.populacao_idade_ativa AS PIA ON SC.cod_ibge = PIA.id_setor_censitario \\\n",
    "        JOIN PUBLIC.razao_sexo AS RS ON SC.cod_ibge = RS.id_setor_censitario \\\n",
    "        JOIN PUBLIC.indice_envelhecimento AS IE ON SC.cod_ibge = IE.id_setor_censitario \\\n",
    "        JOIN PUBLIC.domicilio_renda AS DR ON SC.cod_ibge = DR.id_setor_censitario \\\n",
    "        JOIN PUBLIC.responsavel_renda AS RR ON SC.cod_ibge = RR.id_setor_censitario \\\n",
    "        WHERE SC.cod_ibge IN({sectors});\"\n",
    "        \n",
    "    try:\n",
    "        cur.execute(query)\n",
    "        result = cur.fetchall()\n",
    "    except psycopg2.Error as e:\n",
    "        logger.error(f\"Failed: {e}\")\n",
    "        \n",
    "    return result"
   ]
  },
  {
   "cell_type": "markdown",
   "id": "29368324-684b-492b-8c42-10dfe4cc76f6",
   "metadata": {},
   "source": [
    "---"
   ]
  },
  {
   "cell_type": "code",
   "execution_count": 7,
   "id": "55b05604-2671-4be9-82d4-4759b95d5666",
   "metadata": {},
   "outputs": [],
   "source": [
    "logger = logging.getLogger()\n",
    "handler = logging.StreamHandler()\n",
    "formatter = logging.Formatter('%(asctime)s %(name)s %(levelname)s %(message)s')\n",
    "handler.setFormatter(formatter)\n",
    "logger.addHandler(handler)\n",
    "logger.setLevel(logging.INFO)"
   ]
  },
  {
   "cell_type": "code",
   "execution_count": 8,
   "id": "65fe9d9c-cbf2-49cb-8620-552fe7f19b2a",
   "metadata": {},
   "outputs": [],
   "source": [
    "filename = 'loja-01'"
   ]
  },
  {
   "cell_type": "code",
   "execution_count": 9,
   "id": "5c36e1e5-d49f-4b5b-87de-c5648d7ad2ce",
   "metadata": {},
   "outputs": [],
   "source": [
    "origin = '-9.756869999999969,-36.65935070000001'   # loja-01\n",
    "# origin = '-9.75257,-36.659500400000006'            # loja-02\n",
    "# origin = '-10.28169279999999,-36.56296889999999'   # loja-03\n",
    "# origin = '-9.731959199999986,-36.67763079999998'   # loja-04\n",
    "# origin = '-9.759829900000007,-36.6605428'          # loja-05\n",
    "# origin = '-10.291947200000006,-36.584740900000014' # loja-07\n",
    "# origin = '-9.654918600000004,-35.73275409999996'   # loja-08\n",
    "# origin = '-9.744153799999998,-36.65529809999997'   # loja-09\n",
    "# origin = '-9.407226299999992,-36.63035589999999'   # loja-10\n",
    "# origin = '-9.408816599999975,-36.63168619999999'   # loja-11\n",
    "# origin = '-9.66127510000001,-35.702272699999995'   # loja-12\n",
    "# origin = '-9.757350399999988,-36.666036'           # loja-14\n",
    "# origin = '-9.78115669999999,-36.09609069999999'    # loja-15\n",
    "# origin = '-9.5332118,-37.29475300000001'           # loja-17\n",
    "# origin = '-9.762726999999984,-36.661038999999995'  # loja-18\n",
    "# origin = '-9.385276199999982,-37.99815710000002'   # loja-21\n",
    "# origin = '-9.407306500000011,-36.6316134'          # loja-22"
   ]
  },
  {
   "cell_type": "code",
   "execution_count": 12,
   "id": "9af397c4-05ce-446a-9398-163802492ff0",
   "metadata": {},
   "outputs": [
    {
     "ename": "AttributeError",
     "evalue": "module 'shapely' has no attribute 'Polygon'",
     "output_type": "error",
     "traceback": [
      "\u001b[0;31m---------------------------------------------------------------------------\u001b[0m",
      "\u001b[0;31mAttributeError\u001b[0m                            Traceback (most recent call last)",
      "\u001b[0;32m<timed exec>\u001b[0m in \u001b[0;36m<module>\u001b[0;34m\u001b[0m\n",
      "\u001b[0;32m/tmp/ipykernel_94298/2831927506.py\u001b[0m in \u001b[0;36mget_ia\u001b[0;34m(origin)\u001b[0m\n\u001b[1;32m     15\u001b[0m         \u001b[0mcoords\u001b[0m \u001b[0;34m=\u001b[0m \u001b[0;34m[\u001b[0m\u001b[0;34m[\u001b[0m\u001b[0mcoord\u001b[0m\u001b[0;34m[\u001b[0m\u001b[0;36m1\u001b[0m\u001b[0;34m]\u001b[0m\u001b[0;34m,\u001b[0m \u001b[0mcoord\u001b[0m\u001b[0;34m[\u001b[0m\u001b[0;36m0\u001b[0m\u001b[0;34m]\u001b[0m\u001b[0;34m]\u001b[0m \u001b[0;32mfor\u001b[0m \u001b[0mcoord\u001b[0m \u001b[0;32min\u001b[0m \u001b[0mpolygon\u001b[0m\u001b[0;34m]\u001b[0m\u001b[0;34m\u001b[0m\u001b[0;34m\u001b[0m\u001b[0m\n\u001b[1;32m     16\u001b[0m \u001b[0;34m\u001b[0m\u001b[0m\n\u001b[0;32m---> 17\u001b[0;31m     \u001b[0mgdf\u001b[0m \u001b[0;34m=\u001b[0m \u001b[0mgpd\u001b[0m\u001b[0;34m.\u001b[0m\u001b[0mGeoDataFrame\u001b[0m\u001b[0;34m(\u001b[0m\u001b[0mgeometry\u001b[0m \u001b[0;34m=\u001b[0m \u001b[0;34m[\u001b[0m\u001b[0mshapely\u001b[0m\u001b[0;34m.\u001b[0m\u001b[0mPolygon\u001b[0m\u001b[0;34m(\u001b[0m\u001b[0mcoords\u001b[0m\u001b[0;34m)\u001b[0m\u001b[0;34m]\u001b[0m\u001b[0;34m,\u001b[0m \u001b[0mcrs\u001b[0m \u001b[0;34m=\u001b[0m \u001b[0;34m'EPSG:4326'\u001b[0m\u001b[0;34m)\u001b[0m\u001b[0;34m\u001b[0m\u001b[0;34m\u001b[0m\u001b[0m\n\u001b[0m\u001b[1;32m     18\u001b[0m \u001b[0;34m\u001b[0m\u001b[0m\n\u001b[1;32m     19\u001b[0m     \u001b[0;32mreturn\u001b[0m \u001b[0mgdf\u001b[0m\u001b[0;34m\u001b[0m\u001b[0;34m\u001b[0m\u001b[0m\n",
      "\u001b[0;31mAttributeError\u001b[0m: module 'shapely' has no attribute 'Polygon'"
     ]
    }
   ],
   "source": [
    "%%time\n",
    "polygon = get_ia(origin)"
   ]
  },
  {
   "cell_type": "code",
   "execution_count": 11,
   "id": "a89aee2e-76cc-4241-b6d1-cd63647a36be",
   "metadata": {},
   "outputs": [
    {
     "ename": "NameError",
     "evalue": "name 'polygon' is not defined",
     "output_type": "error",
     "traceback": [
      "\u001b[0;31m---------------------------------------------------------------------------\u001b[0m",
      "\u001b[0;31mNameError\u001b[0m                                 Traceback (most recent call last)",
      "\u001b[0;32m/tmp/ipykernel_94298/2344508607.py\u001b[0m in \u001b[0;36m<module>\u001b[0;34m\u001b[0m\n\u001b[0;32m----> 1\u001b[0;31m \u001b[0mpolygon\u001b[0m \u001b[0;34m=\u001b[0m \u001b[0mpolygon\u001b[0m\u001b[0;34m[\u001b[0m\u001b[0;34m'geometry'\u001b[0m\u001b[0;34m]\u001b[0m\u001b[0;34m.\u001b[0m\u001b[0mto_wkt\u001b[0m\u001b[0;34m(\u001b[0m\u001b[0;34m)\u001b[0m\u001b[0;34m[\u001b[0m\u001b[0;36m0\u001b[0m\u001b[0;34m]\u001b[0m\u001b[0;34m\u001b[0m\u001b[0;34m\u001b[0m\u001b[0m\n\u001b[0m",
      "\u001b[0;31mNameError\u001b[0m: name 'polygon' is not defined"
     ]
    }
   ],
   "source": [
    "polygon = polygon['geometry'].to_wkt()[0]"
   ]
  },
  {
   "cell_type": "code",
   "execution_count": null,
   "id": "afdb9231-de80-43e1-a911-67c70c90dcc5",
   "metadata": {},
   "outputs": [],
   "source": [
    "sectors = get_sectors(conn, cur, polygon)"
   ]
  },
  {
   "cell_type": "code",
   "execution_count": null,
   "id": "0695200d-88ec-440f-8ddf-d7890118b511",
   "metadata": {},
   "outputs": [],
   "source": [
    "len(sectors)"
   ]
  },
  {
   "cell_type": "code",
   "execution_count": null,
   "id": "f850e3a8-b5b6-4b93-b6b2-b17c9e1cd5f9",
   "metadata": {},
   "outputs": [],
   "source": [
    "%%time\n",
    "ia_data = get_data(conn, cur, sectors)"
   ]
  },
  {
   "cell_type": "code",
   "execution_count": null,
   "id": "b0019154-466c-49f7-b5b7-26206a95eff7",
   "metadata": {},
   "outputs": [],
   "source": [
    "close_connection(conn, cur)"
   ]
  },
  {
   "cell_type": "code",
   "execution_count": null,
   "id": "ff39a770-3ff5-4390-9834-586bb0e6e3c0",
   "metadata": {},
   "outputs": [],
   "source": [
    "cols = [\n",
    "    'ID_MUNICIPIO', 'ID_SETOR_CENSITARIO',\n",
    "    'PRM_00_04', 'PRM_05_09', 'PRM_10_14', 'PRM_15_19', 'PRM_20_24', 'PRM_25_29', 'PRM_30_34',\n",
    "    'PRM_35_39', 'PRM_40_44', 'PRM_45_49', 'PRM_50_54', 'PRM_55_59', 'PRM_60_64', 'PRM_65_69',\n",
    "    'PRM_70_74', 'PRM_75_79', 'PRM_80_84', 'PRM_85_89', 'PRM_90_94', 'PRM_95_99', 'PRM_100',\n",
    "    'PRF_00_04', 'PRF_05_09', 'PRF_10_14', 'PRF_15_19', 'PRF_20_24', 'PRF_25_29', 'PRF_30_34', \n",
    "    'PRF_35_39', 'PRF_40_44', 'PRF_45_49', 'PRF_50_54', 'PRF_55_59', 'PRF_60_64', 'PRF_65_69', \n",
    "    'PRF_70_74', 'PRF_75_79', 'PRF_80_84', 'PRF_85_89', 'PRF_90_94', 'PRF_95_99', 'PRF_100',\n",
    "    'RS_00_04', 'RS_05_09', 'RS_10_14', 'RS_15_19', 'RS_20_24', 'RS_25_29', 'RS_30_34', \n",
    "    'RS_35_39', 'RS_40_44', 'RS_45_49', 'RS_50_54', 'RS_55_59', 'RS_60_64', 'RS_65_69', \n",
    "    'RS_70_74', 'RS_75_79', 'RS_80_84', 'RS_85_89', 'RS_90_94', 'RS_95_99', 'RS_100',\n",
    "    'PIA_M', 'PIA_F', 'PIA_T',\n",
    "    'IE_M', 'IE_F',\n",
    "    'DR_CLASSE_AB', 'DR_CLASSE_C', 'DR_CLASSE_D', 'DR_CLASSE_E',\n",
    "    'RR_CLASSE_A', 'RR_CLASSE_B', 'RR_CLASSE_C', 'RR_CLASSE_D', 'RR_CLASSE_E'\n",
    "]"
   ]
  },
  {
   "cell_type": "code",
   "execution_count": null,
   "id": "652f2859-e2f3-42a4-bd10-aeeb96ead580",
   "metadata": {},
   "outputs": [],
   "source": [
    "df = pd.DataFrame(data = ia_data, columns = cols)"
   ]
  },
  {
   "cell_type": "code",
   "execution_count": null,
   "id": "8a9f5453-96e2-4d46-b411-fb0ed25f24f6",
   "metadata": {},
   "outputs": [],
   "source": [
    "len(df)"
   ]
  },
  {
   "cell_type": "code",
   "execution_count": null,
   "id": "d3104462-a69b-4d5a-bf8c-3eb0a8a011ec",
   "metadata": {},
   "outputs": [],
   "source": [
    "df.to_csv(f\"{filename}.csv\", index = False)"
   ]
  }
 ],
 "metadata": {
  "kernelspec": {
   "display_name": "Python 3 (ipykernel)",
   "language": "python",
   "name": "python3"
  },
  "language_info": {
   "codemirror_mode": {
    "name": "ipython",
    "version": 3
   },
   "file_extension": ".py",
   "mimetype": "text/x-python",
   "name": "python",
   "nbconvert_exporter": "python",
   "pygments_lexer": "ipython3",
   "version": "3.9.7"
  }
 },
 "nbformat": 4,
 "nbformat_minor": 5
}
