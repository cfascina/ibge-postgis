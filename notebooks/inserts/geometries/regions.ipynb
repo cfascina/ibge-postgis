{
 "cells": [
  {
   "cell_type": "code",
   "execution_count": null,
   "id": "d2cd2a84",
   "metadata": {},
   "outputs": [],
   "source": [
    "import geopandas as gpd\n",
    "import psycopg2"
   ]
  },
  {
   "cell_type": "code",
   "execution_count": null,
   "id": "b62b1f2b-6aa9-477f-8ced-f67f14c3fbfc",
   "metadata": {},
   "outputs": [],
   "source": [
    "def open_connection():\n",
    "    conn = \\\n",
    "        psycopg2.connect( \\\n",
    "            host = 'localhost',\n",
    "            database = 'queroponto',\n",
    "            user = 'postgres',\n",
    "            password = 'postgres')\n",
    "    \n",
    "    conn.autocommit = True\n",
    "    cur = conn.cursor()\n",
    "    \n",
    "    return conn, cur"
   ]
  },
  {
   "cell_type": "code",
   "execution_count": null,
   "id": "ff8a87f0-def3-4851-a51e-9ca1a0d31a08",
   "metadata": {},
   "outputs": [],
   "source": [
    "def close_connection(conn, cur):\n",
    "    cur.close()\n",
    "    conn.close()"
   ]
  },
  {
   "cell_type": "code",
   "execution_count": null,
   "id": "87a2fae3-c0dc-46ff-9b05-89b8732a8257",
   "metadata": {},
   "outputs": [],
   "source": [
    "def insert_data(cur, values):\n",
    "    query = f\" \\\n",
    "        INSERT INTO public.regioes (cod_ibge, nome, sigla, geom) VALUES \\\n",
    "        ({values[0]}, '{values[1]}', '{values[2]}', ST_GeomFromText('{values[3]}', 4326));\";\n",
    "\n",
    "    cur.execute(query)"
   ]
  },
  {
   "cell_type": "markdown",
   "id": "e20318d2-49e6-4d52-8848-c87ba4917727",
   "metadata": {},
   "source": [
    "---"
   ]
  },
  {
   "cell_type": "code",
   "execution_count": null,
   "id": "37dd0a52-b381-4832-8977-91a762778210",
   "metadata": {},
   "outputs": [],
   "source": [
    "gdf = gpd.read_file('../../arquivos/ibge/regioes/RBR2010.shp')"
   ]
  },
  {
   "cell_type": "code",
   "execution_count": null,
   "id": "a50048fd",
   "metadata": {},
   "outputs": [],
   "source": [
    "conn, cur = open_connection()"
   ]
  },
  {
   "cell_type": "code",
   "execution_count": null,
   "id": "b3096ed5-2dca-4020-aaea-ad9907881760",
   "metadata": {},
   "outputs": [],
   "source": [
    "for row in gdf.itertuples():\n",
    "    values = [row[1], row[2], row[3], row[4]]\n",
    "    insert_data(cur, values)"
   ]
  },
  {
   "cell_type": "code",
   "execution_count": null,
   "id": "4d7b77af-3f9d-4c75-894d-c92de19dab5a",
   "metadata": {},
   "outputs": [],
   "source": [
    "close_connection(conn, cur)"
   ]
  }
 ],
 "metadata": {
  "kernelspec": {
   "display_name": "Python 3.8.10 ('.venv': venv)",
   "language": "python",
   "name": "python3810jvsc74a57bd0d042c0f8cf2cbf3fc3853e40e17860ef2f5f3af1aa87cf2b65d717551d220c91"
  },
  "language_info": {
   "codemirror_mode": {
    "name": "ipython",
    "version": 3
   },
   "file_extension": ".py",
   "mimetype": "text/x-python",
   "name": "python",
   "nbconvert_exporter": "python",
   "pygments_lexer": "ipython3",
   "version": "3.8.10"
  }
 },
 "nbformat": 4,
 "nbformat_minor": 5
}
