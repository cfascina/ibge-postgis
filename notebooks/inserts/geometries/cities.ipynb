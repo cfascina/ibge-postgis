{
 "cells": [
  {
   "cell_type": "code",
   "execution_count": null,
   "id": "d2cd2a84",
   "metadata": {},
   "outputs": [],
   "source": [
    "import geopandas as gpd\n",
    "import os\n",
    "import psycopg2"
   ]
  },
  {
   "cell_type": "code",
   "execution_count": null,
   "id": "ebf33c81-9937-4ae4-9c0e-4c772e8ec796",
   "metadata": {},
   "outputs": [],
   "source": [
    "def open_connection():\n",
    "    conn = \\\n",
    "        psycopg2.connect( \\\n",
    "            host = 'localhost',\n",
    "            database = 'queroponto',\n",
    "            user = 'postgres',\n",
    "            password = 'postgres')\n",
    "    \n",
    "    conn.autocommit = True\n",
    "    cur = conn.cursor()\n",
    "    \n",
    "    return conn, cur"
   ]
  },
  {
   "cell_type": "code",
   "execution_count": null,
   "id": "e206b24f-72a1-4b74-8a02-4a4ed2825bf5",
   "metadata": {},
   "outputs": [],
   "source": [
    "def close_connection(conn, cur):\n",
    "    cur.close()\n",
    "    conn.close()"
   ]
  },
  {
   "cell_type": "code",
   "execution_count": null,
   "id": "d701469b-b492-4ead-bdeb-32665afd5ccc",
   "metadata": {},
   "outputs": [],
   "source": [
    "def insert_data(cur, values):\n",
    "    query = f\" \\\n",
    "        INSERT INTO public.municipios (cod_ibge, id_estado, nome, geom) VALUES ( \\\n",
    "            {values[0]}, \\\n",
    "            {values[1]}, \\\n",
    "            '{values[2]}', \\\n",
    "            ST_GeomFromText('{values[3]}', 4326) \\\n",
    "        );\"\n",
    "    \n",
    "    cur.execute(query)"
   ]
  },
  {
   "cell_type": "markdown",
   "id": "cd7a798f-bcb7-4d23-acb2-c18c1891b7d8",
   "metadata": {},
   "source": [
    "---"
   ]
  },
  {
   "cell_type": "code",
   "execution_count": null,
   "id": "b78638df-c9c5-48be-9e4b-8c69cd49d823",
   "metadata": {},
   "outputs": [],
   "source": [
    "path = '../../arquivos/ibge/municipios'"
   ]
  },
  {
   "cell_type": "code",
   "execution_count": null,
   "id": "86d6124b-33e6-44ad-a3ea-0ff80ed76bf9",
   "metadata": {},
   "outputs": [],
   "source": [
    "folders = os.listdir(path)"
   ]
  },
  {
   "cell_type": "code",
   "execution_count": null,
   "id": "4d38abff-f7bf-4434-9b1a-c6a6e229aae7",
   "metadata": {},
   "outputs": [],
   "source": [
    "conn, cur = open_connection()"
   ]
  },
  {
   "cell_type": "code",
   "execution_count": null,
   "id": "7bea563e-8ae2-4479-a1bf-5f367e7a2976",
   "metadata": {},
   "outputs": [],
   "source": [
    "for folder in folders:\n",
    "    for file in os.listdir(f\"{path}/{folder}\"):\n",
    "        if file.split('.')[-1] == 'shp':\n",
    "            gdf = gpd.read_file(f\"{path}/{folder}/{file}\")\n",
    "            \n",
    "            for row in gdf.itertuples():\n",
    "                name = row[3].replace(\"'\", \"''\")\n",
    "                values = [int(row[2]), int(row[2][:2]), name, row[4]]\n",
    "                \n",
    "                insert_data(cur, values)"
   ]
  },
  {
   "cell_type": "code",
   "execution_count": null,
   "id": "3aa75ce0-f661-496a-be75-c6cd12bd6e5a",
   "metadata": {},
   "outputs": [],
   "source": [
    "close_connection(conn, cur)"
   ]
  }
 ],
 "metadata": {
  "kernelspec": {
   "display_name": "Python 3.8.10 ('.venv': venv)",
   "language": "python",
   "name": "python3810jvsc74a57bd0d042c0f8cf2cbf3fc3853e40e17860ef2f5f3af1aa87cf2b65d717551d220c91"
  },
  "language_info": {
   "codemirror_mode": {
    "name": "ipython",
    "version": 3
   },
   "file_extension": ".py",
   "mimetype": "text/x-python",
   "name": "python",
   "nbconvert_exporter": "python",
   "pygments_lexer": "ipython3",
   "version": "3.8.10"
  }
 },
 "nbformat": 4,
 "nbformat_minor": 5
}
