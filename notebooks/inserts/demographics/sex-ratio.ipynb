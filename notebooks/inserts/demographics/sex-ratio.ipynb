{
 "cells": [
  {
   "cell_type": "code",
   "execution_count": null,
   "id": "c68f9f63-acdd-4b0b-9f1a-09f2d408b1bc",
   "metadata": {},
   "outputs": [],
   "source": [
    "import logging\n",
    "import pandas as pd\n",
    "import psycopg2"
   ]
  },
  {
   "cell_type": "code",
   "execution_count": null,
   "id": "3e27935c-0af5-469e-91a8-ac9a2b3a96b4",
   "metadata": {},
   "outputs": [],
   "source": [
    "def open_connection():\n",
    "    conn = \\\n",
    "        psycopg2.connect( \\\n",
    "            host = 'localhost',\n",
    "            database = 'queroponto',\n",
    "            user = 'postgres',\n",
    "            password = 'postgres')\n",
    "\n",
    "    cur = conn.cursor()\n",
    "    \n",
    "    return conn, cur"
   ]
  },
  {
   "cell_type": "code",
   "execution_count": null,
   "id": "ed446473-7954-4634-972a-450d9b2f55c7",
   "metadata": {},
   "outputs": [],
   "source": [
    "def close_connection(conn, cur):\n",
    "    cur.close()\n",
    "    conn.close()"
   ]
  },
  {
   "cell_type": "code",
   "execution_count": null,
   "id": "38fded7b-c8c6-4d08-8b69-36c9934cecab",
   "metadata": {},
   "outputs": [],
   "source": [
    "def get_sectors(conn, cur, state):\n",
    "    query = f\"SELECT cod_ibge FROM public.setores_censitarios WHERE CAST(cod_ibge AS TEXT) LIKE '{state}%';\"\n",
    "    \n",
    "    try:\n",
    "        cur.execute(query)\n",
    "        result = [row[0] for row in cur.fetchall()]\n",
    "    except psycopg2.Error as e:\n",
    "        logger.error(f\"Failed: {e}\")\n",
    "        \n",
    "    return result"
   ]
  },
  {
   "cell_type": "code",
   "execution_count": null,
   "id": "63bd46f1-2426-407d-85b8-4e047a48958f",
   "metadata": {},
   "outputs": [],
   "source": [
    "def get_data(conn, cur, sector):\n",
    "    query = f\" \\\n",
    "        SELECT \\\n",
    "            PRM.\\\"00_04\\\"::NUMERIC / NULLIF(PRF.\\\"00_04\\\"::NUMERIC, 0) AS RS_00_04, \\\n",
    "            PRM.\\\"05_09\\\"::NUMERIC / NULLIF(PRF.\\\"05_09\\\"::NUMERIC, 0) AS RS_05_09, \\\n",
    "            PRM.\\\"10_14\\\"::NUMERIC / NULLIF(PRF.\\\"10_14\\\"::NUMERIC, 0) AS RS_10_14, \\\n",
    "            PRM.\\\"15_19\\\"::NUMERIC / NULLIF(PRF.\\\"15_19\\\"::NUMERIC, 0) AS RS_15_19, \\\n",
    "            PRM.\\\"20_24\\\"::NUMERIC / NULLIF(PRF.\\\"20_24\\\"::NUMERIC, 0) AS RS_20_24, \\\n",
    "            PRM.\\\"25_29\\\"::NUMERIC / NULLIF(PRF.\\\"25_29\\\"::NUMERIC, 0) AS RS_25_29, \\\n",
    "            PRM.\\\"30_34\\\"::NUMERIC / NULLIF(PRF.\\\"30_34\\\"::NUMERIC, 0) AS RS_30_34, \\\n",
    "            PRM.\\\"35_39\\\"::NUMERIC / NULLIF(PRF.\\\"35_39\\\"::NUMERIC, 0) AS RS_35_39, \\\n",
    "            PRM.\\\"40_44\\\"::NUMERIC / NULLIF(PRF.\\\"40_44\\\"::NUMERIC, 0) AS RS_40_44, \\\n",
    "            PRM.\\\"45_49\\\"::NUMERIC / NULLIF(PRF.\\\"45_49\\\"::NUMERIC, 0) AS RS_45_49, \\\n",
    "            PRM.\\\"50_54\\\"::NUMERIC / NULLIF(PRF.\\\"50_54\\\"::NUMERIC, 0) AS RS_50_54, \\\n",
    "            PRM.\\\"55_59\\\"::NUMERIC / NULLIF(PRF.\\\"55_59\\\"::NUMERIC, 0) AS RS_55_59, \\\n",
    "            PRM.\\\"60_64\\\"::NUMERIC / NULLIF(PRF.\\\"60_64\\\"::NUMERIC, 0) AS RS_60_64, \\\n",
    "            PRM.\\\"65_69\\\"::NUMERIC / NULLIF(PRF.\\\"65_69\\\"::NUMERIC, 0) AS RS_65_69, \\\n",
    "            PRM.\\\"70_74\\\"::NUMERIC / NULLIF(PRF.\\\"70_74\\\"::NUMERIC, 0) AS RS_70_74, \\\n",
    "            PRM.\\\"75_79\\\"::NUMERIC / NULLIF(PRF.\\\"75_79\\\"::NUMERIC, 0) AS RS_75_79, \\\n",
    "            PRM.\\\"80_84\\\"::NUMERIC / NULLIF(PRF.\\\"80_84\\\"::NUMERIC, 0) AS RS_80_84, \\\n",
    "            PRM.\\\"85_89\\\"::NUMERIC / NULLIF(PRF.\\\"85_89\\\"::NUMERIC, 0) AS RS_85_89, \\\n",
    "            PRM.\\\"90_94\\\"::NUMERIC / NULLIF(PRF.\\\"90_94\\\"::NUMERIC, 0) AS RS_90_94, \\\n",
    "            PRM.\\\"95_99\\\"::NUMERIC / NULLIF(PRF.\\\"95_99\\\"::NUMERIC, 0) AS RS_95_99, \\\n",
    "            PRM.\\\"100\\\"::NUMERIC / NULLIF(PRF.\\\"100\\\"::NUMERIC, 0) AS RS_100 \\\n",
    "        FROM PUBLIC.populacao_residente_mas AS PRM \\\n",
    "        INNER JOIN PUBLIC.populacao_residente_fem AS PRF ON  \\\n",
    "            PRM.id_setor_censitario = PRF.id_setor_censitario \\\n",
    "        WHERE PRM.id_setor_censitario = {sector};\"\n",
    "\n",
    "    try:\n",
    "        cur.execute(query)\n",
    "        result = cur.fetchall()\n",
    "    except psycopg2.Error as e:\n",
    "        logger.error(f\"Failed: {e}\")\n",
    "        \n",
    "    return result"
   ]
  },
  {
   "cell_type": "code",
   "execution_count": null,
   "id": "490ec489-48e7-49cc-81fe-8242ebdadddb",
   "metadata": {},
   "outputs": [],
   "source": [
    "def insert_data(conn, cur, sector, data):\n",
    "    values = [data[0]] + ['NULL' if item is None else round(float(item), 2) for item in data[1:][0]]\n",
    "    values = ', '.join(map(str, [item for item in values]))\n",
    "\n",
    "    query = f\" \\\n",
    "        INSERT INTO public.razao_sexo( \\\n",
    "            id_setor_censitario, \\\n",
    "            \\\"00_04\\\", \\\"05_09\\\", \\\"10_14\\\", \\\"15_19\\\", \\\"20_24\\\", \\\"25_29\\\", \\\"30_34\\\", \\\n",
    "            \\\"35_39\\\", \\\"40_44\\\", \\\"45_49\\\", \\\"50_54\\\", \\\"55_59\\\", \\\"60_64\\\", \\\"65_69\\\", \\\n",
    "            \\\"70_74\\\", \\\"75_79\\\", \\\"80_84\\\", \\\"85_89\\\", \\\"90_94\\\", \\\"95_99\\\", \\\"100\\\") \\\n",
    "        VALUES ({values});\"\n",
    "    \n",
    "    try:\n",
    "        cur.execute(query)\n",
    "    except psycopg2.IntegrityError as e:\n",
    "        conn.rollback()\n",
    "        logger.error(f\"Failed: {e}\")\n",
    "    else:\n",
    "        conn.commit()"
   ]
  },
  {
   "cell_type": "markdown",
   "id": "f974e76b-351d-466c-baa2-442d35dff15d",
   "metadata": {},
   "source": [
    "---"
   ]
  },
  {
   "cell_type": "code",
   "execution_count": null,
   "id": "c0e049e4-0931-4586-bc41-73ea1a97a519",
   "metadata": {},
   "outputs": [],
   "source": [
    "logger = logging.getLogger()\n",
    "handler = logging.StreamHandler()\n",
    "formatter = logging.Formatter('%(asctime)s %(name)s %(levelname)s %(message)s')\n",
    "handler.setFormatter(formatter)\n",
    "logger.addHandler(handler)\n",
    "logger.setLevel(logging.INFO)"
   ]
  },
  {
   "cell_type": "code",
   "execution_count": null,
   "id": "a835dc8a-73d5-413d-90c2-c3c14a82f57b",
   "metadata": {},
   "outputs": [],
   "source": [
    "conn, cur = open_connection()"
   ]
  },
  {
   "cell_type": "code",
   "execution_count": null,
   "id": "35e9716a-21aa-4589-af63-f6cb662dfcbb",
   "metadata": {},
   "outputs": [],
   "source": [
    "sectors = get_sectors(conn, cur, 12) # AC"
   ]
  },
  {
   "cell_type": "code",
   "execution_count": null,
   "id": "f9c332c0-8c94-44fd-ba8f-8a7877e91c71",
   "metadata": {},
   "outputs": [],
   "source": [
    "logger.info(f\"{len(sectors)} found.\")"
   ]
  },
  {
   "cell_type": "code",
   "execution_count": null,
   "id": "50e2583f-cbe3-465f-9b79-7fc0348df60c",
   "metadata": {},
   "outputs": [],
   "source": [
    "%%time\n",
    "for sector in sectors:\n",
    "    data = get_data(conn, cur, sector)\n",
    "    \n",
    "    if len(data) > 0:\n",
    "        data.insert(0, sector)\n",
    "        insert_data(conn, cur, sector, data)"
   ]
  },
  {
   "cell_type": "code",
   "execution_count": null,
   "id": "4e3e8ae6-df98-4ca7-a946-73ef0dd5841d",
   "metadata": {},
   "outputs": [],
   "source": [
    "close_connection(conn, cur)"
   ]
  }
 ],
 "metadata": {
  "kernelspec": {
   "display_name": "Python 3.8.10 ('.venv': venv)",
   "language": "python",
   "name": "python3810jvsc74a57bd0d042c0f8cf2cbf3fc3853e40e17860ef2f5f3af1aa87cf2b65d717551d220c91"
  },
  "language_info": {
   "codemirror_mode": {
    "name": "ipython",
    "version": 3
   },
   "file_extension": ".py",
   "mimetype": "text/x-python",
   "name": "python",
   "nbconvert_exporter": "python",
   "pygments_lexer": "ipython3",
   "version": "3.8.10"
  }
 },
 "nbformat": 4,
 "nbformat_minor": 5
}
