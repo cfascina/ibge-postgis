{
 "cells": [
  {
   "cell_type": "code",
   "execution_count": null,
   "id": "c68f9f63-acdd-4b0b-9f1a-09f2d408b1bc",
   "metadata": {},
   "outputs": [],
   "source": [
    "import logging\n",
    "import os\n",
    "import pandas as pd\n",
    "import psycopg2"
   ]
  },
  {
   "cell_type": "code",
   "execution_count": null,
   "id": "3e27935c-0af5-469e-91a8-ac9a2b3a96b4",
   "metadata": {},
   "outputs": [],
   "source": [
    "def open_connection():\n",
    "    conn = \\\n",
    "        psycopg2.connect( \\\n",
    "            host = 'localhost',\n",
    "            database = 'queroponto',\n",
    "            user = 'postgres',\n",
    "            password = 'postgres')\n",
    "\n",
    "    cur = conn.cursor()\n",
    "    \n",
    "    return conn, cur"
   ]
  },
  {
   "cell_type": "code",
   "execution_count": null,
   "id": "ed446473-7954-4634-972a-450d9b2f55c7",
   "metadata": {},
   "outputs": [],
   "source": [
    "def close_connection(conn, cur):\n",
    "    cur.close()\n",
    "    conn.close()"
   ]
  },
  {
   "cell_type": "code",
   "execution_count": null,
   "id": "490ec489-48e7-49cc-81fe-8242ebdadddb",
   "metadata": {},
   "outputs": [],
   "source": [
    "def insert_data(conn, cur, id_sector, data):\n",
    "    col_names = ', '.join([item[0] for item in data])\n",
    "    col_values = ['NULL' if item[1] != item[1] else item[1] for item in data]\n",
    "    col_values = ', '.join(map(str, [item for item in col_values]))\n",
    "    \n",
    "    query = f\"INSERT INTO public.responsavel_renda (id_setor_censitario, {col_names}) VALUES ({id_sector}, {col_values});\"\n",
    "    \n",
    "    try:\n",
    "        cur.execute(query)\n",
    "    except psycopg2.IntegrityError as e:\n",
    "        conn.rollback()\n",
    "        # logger.error(f\"Failed: {e}\")\n",
    "    else:\n",
    "        conn.commit()"
   ]
  },
  {
   "cell_type": "markdown",
   "id": "f974e76b-351d-466c-baa2-442d35dff15d",
   "metadata": {},
   "source": [
    "---"
   ]
  },
  {
   "cell_type": "code",
   "execution_count": null,
   "id": "c0e049e4-0931-4586-bc41-73ea1a97a519",
   "metadata": {},
   "outputs": [],
   "source": [
    "logger = logging.getLogger()\n",
    "handler = logging.StreamHandler()\n",
    "formatter = logging.Formatter('%(asctime)s %(name)s %(levelname)s %(message)s')\n",
    "handler.setFormatter(formatter)\n",
    "logger.addHandler(handler)\n",
    "logger.setLevel(logging.INFO)"
   ]
  },
  {
   "cell_type": "code",
   "execution_count": null,
   "id": "9324e336-35e8-43d2-8578-44456258896b",
   "metadata": {},
   "outputs": [],
   "source": [
    "file = '../../../files/csv/AC.csv' # 12"
   ]
  },
  {
   "cell_type": "code",
   "execution_count": null,
   "id": "5fd12a34-517a-4dbe-876c-16da2ad7064b",
   "metadata": {},
   "outputs": [],
   "source": [
    "cols = [\n",
    "    {\"classe_a\": [\"RR_V075\"]},\n",
    "    {\"classe_b\": [\"RR_V073\", \"RR_V074\"]},\n",
    "    {\"classe_c\": [\"RR_V072\"]},\n",
    "    {\"classe_d\": [\"RR_V070\", \"RR_V071\"]},\n",
    "    {\"classe_e\": [\"RR_V067\", \"RR_V068\", \"RR_V069\"]}\n",
    "]"
   ]
  },
  {
   "cell_type": "code",
   "execution_count": null,
   "id": "d7e7a1b1-51ce-4bfb-9697-c0d1be1124d2",
   "metadata": {},
   "outputs": [],
   "source": [
    "base_cols = []\n",
    "\n",
    "for col in cols:\n",
    "    for base in col.values():\n",
    "        base_cols.append(base)\n",
    "        \n",
    "base_cols = [col for cols in base_cols for col in cols]\n",
    "base_cols.insert(0, 'Cod_str')"
   ]
  },
  {
   "cell_type": "code",
   "execution_count": null,
   "id": "35e9716a-21aa-4589-af63-f6cb662dfcbb",
   "metadata": {},
   "outputs": [],
   "source": [
    "%%time\n",
    "df = pd.read_csv(file, usecols = base_cols, sep = ',', low_memory = False)"
   ]
  },
  {
   "cell_type": "code",
   "execution_count": null,
   "id": "63faeb65-d1b5-4a86-9498-77bc5b7af6c8",
   "metadata": {},
   "outputs": [],
   "source": [
    "logger.info(f\"{file.split('/')[-1]} with {len(df)} rows.\")"
   ]
  },
  {
   "cell_type": "code",
   "execution_count": null,
   "id": "c49196e7-9df2-4184-989d-9f0c7163b34a",
   "metadata": {},
   "outputs": [],
   "source": [
    "%%time\n",
    "df = df.apply(pd.to_numeric, errors = 'coerce')"
   ]
  },
  {
   "cell_type": "code",
   "execution_count": null,
   "id": "a835dc8a-73d5-413d-90c2-c3c14a82f57b",
   "metadata": {},
   "outputs": [],
   "source": [
    "conn, cur = open_connection()"
   ]
  },
  {
   "cell_type": "code",
   "execution_count": null,
   "id": "899df49d-6b96-4a27-bef2-90ea77731312",
   "metadata": {},
   "outputs": [],
   "source": [
    "%%time\n",
    "for index, row in df.iterrows():\n",
    "    data = []\n",
    "    \n",
    "    for col in cols:\n",
    "        for key, values in col.items():\n",
    "            values = [float(row[value]) for value in values]\n",
    "            result = sum(values)\n",
    "            data.append([key, result])\n",
    "    \n",
    "    # insert_data(conn, cur, int(row['Cod_str']), data)"
   ]
  },
  {
   "cell_type": "code",
   "execution_count": null,
   "id": "4e3e8ae6-df98-4ca7-a946-73ef0dd5841d",
   "metadata": {},
   "outputs": [],
   "source": [
    "close_connection(conn, cur)"
   ]
  }
 ],
 "metadata": {
  "kernelspec": {
   "display_name": "Python 3.8.10 ('.venv': venv)",
   "language": "python",
   "name": "python3810jvsc74a57bd0d042c0f8cf2cbf3fc3853e40e17860ef2f5f3af1aa87cf2b65d717551d220c91"
  },
  "language_info": {
   "codemirror_mode": {
    "name": "ipython",
    "version": 3
   },
   "file_extension": ".py",
   "mimetype": "text/x-python",
   "name": "python",
   "nbconvert_exporter": "python",
   "pygments_lexer": "ipython3",
   "version": "3.8.10"
  }
 },
 "nbformat": 4,
 "nbformat_minor": 5
}
