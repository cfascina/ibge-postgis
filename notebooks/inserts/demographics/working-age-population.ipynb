{
 "cells": [
  {
   "cell_type": "code",
   "execution_count": null,
   "id": "c68f9f63-acdd-4b0b-9f1a-09f2d408b1bc",
   "metadata": {},
   "outputs": [],
   "source": [
    "import logging\n",
    "import pandas as pd\n",
    "import psycopg2"
   ]
  },
  {
   "cell_type": "code",
   "execution_count": null,
   "id": "3e27935c-0af5-469e-91a8-ac9a2b3a96b4",
   "metadata": {},
   "outputs": [],
   "source": [
    "def open_connection():\n",
    "    conn = \\\n",
    "        psycopg2.connect( \\\n",
    "            host = 'localhost',\n",
    "            database = 'queroponto',\n",
    "            user = 'postgres',\n",
    "            password = 'postgres')\n",
    "\n",
    "    cur = conn.cursor()\n",
    "    \n",
    "    return conn, cur"
   ]
  },
  {
   "cell_type": "code",
   "execution_count": null,
   "id": "ed446473-7954-4634-972a-450d9b2f55c7",
   "metadata": {},
   "outputs": [],
   "source": [
    "def close_connection(conn, cur):\n",
    "    cur.close()\n",
    "    conn.close()"
   ]
  },
  {
   "cell_type": "code",
   "execution_count": null,
   "id": "63bd46f1-2426-407d-85b8-4e047a48958f",
   "metadata": {},
   "outputs": [],
   "source": [
    "def get_sectors(conn, cur, id_state):\n",
    "    query = f\"SELECT cod_ibge FROM public.setores_censitarios WHERE CAST(cod_ibge AS TEXT) LIKE '{id_state}%';\"\n",
    "    \n",
    "    try:\n",
    "        cur.execute(query)\n",
    "        result = [row[0] for row in cur.fetchall()]\n",
    "    except psycopg2.Error as e:\n",
    "        logger.error(f\"Failed: {e}\")\n",
    "        \n",
    "    return result"
   ]
  },
  {
   "cell_type": "code",
   "execution_count": null,
   "id": "3ee67012-a569-4684-8f50-ad4998b1ef1f",
   "metadata": {},
   "outputs": [],
   "source": [
    "def get_adults(conn, cur, table, id_sector):\n",
    "    query = f\" \\\n",
    "        SELECT SUM(\\\"15_19\\\" + \\\"20_24\\\" + \\\"25_29\\\" + \\\"30_34\\\" + \\\"35_39\\\" + \\\"40_44\\\" + \\\"45_49\\\" + \\\"50_54\\\" + \\\"55_59\\\" + \\\"60_64\\\") \\\n",
    "        FROM public.{table} \\\n",
    "        WHERE id_setor_censitario = {id_sector};\"\n",
    "    \n",
    "    try:\n",
    "        cur.execute(query)\n",
    "        result = cur.fetchone()[0]\n",
    "    except psycopg2.Error as e:\n",
    "        logger.error(f\"Failed: {e}\")\n",
    "        \n",
    "    return result"
   ]
  },
  {
   "cell_type": "code",
   "execution_count": null,
   "id": "554ddd0c-628d-440a-81c5-92b3c7dc7c0e",
   "metadata": {},
   "outputs": [],
   "source": [
    "def get_total(conn, cur, table, id_sector):\n",
    "    query = f\" \\\n",
    "        SELECT SUM(\\\"00_04\\\" + \\\"05_09\\\" + \\\"10_14\\\" + \\\"15_19\\\" + \\\"20_24\\\" + \\\"25_29\\\" + \\\"30_34\\\" + \\\"35_39\\\" + \\\"40_44\\\" + \\\"45_49\\\" + \\\"50_54\\\" + \\\"55_59\\\" + \\\"60_64\\\" + \\\"65_69\\\" + \\\"70_74\\\" + \\\"75_79\\\" + \\\"80_84\\\" + \\\"85_89\\\" + \\\"90_94\\\" + \\\"95_99\\\" + \\\"100\\\") \\\n",
    "        FROM public.{table} \\\n",
    "        WHERE id_setor_censitario = {id_sector};\"\n",
    "    \n",
    "    try:\n",
    "        cur.execute(query)\n",
    "        result = cur.fetchone()[0]\n",
    "    except psycopg2.Error as e:\n",
    "        logger.error(f\"Failed: {e}\")\n",
    "        \n",
    "    return result"
   ]
  },
  {
   "cell_type": "code",
   "execution_count": null,
   "id": "490ec489-48e7-49cc-81fe-8242ebdadddb",
   "metadata": {},
   "outputs": [],
   "source": [
    "def insert_data(conn, cur, id_sector, data):\n",
    "    query = f\" \\\n",
    "        INSERT INTO public.populacao_idade_ativa (id_setor_censitario, homens, mulheres, total) \\\n",
    "        VALUES ({id_sector}, {data[0]}, {data[1]}, {data[2]});\"\n",
    "    \n",
    "    try:\n",
    "        cur.execute(query)\n",
    "    except psycopg2.IntegrityError as e:\n",
    "        conn.rollback()\n",
    "        logger.error(f\"Failed: {e}\")\n",
    "    else:\n",
    "        conn.commit()"
   ]
  },
  {
   "cell_type": "markdown",
   "id": "f974e76b-351d-466c-baa2-442d35dff15d",
   "metadata": {},
   "source": [
    "---"
   ]
  },
  {
   "cell_type": "code",
   "execution_count": null,
   "id": "c0e049e4-0931-4586-bc41-73ea1a97a519",
   "metadata": {},
   "outputs": [],
   "source": [
    "logger = logging.getLogger()\n",
    "handler = logging.StreamHandler()\n",
    "formatter = logging.Formatter('%(asctime)s %(name)s %(levelname)s %(message)s')\n",
    "handler.setFormatter(formatter)\n",
    "logger.addHandler(handler)\n",
    "logger.setLevel(logging.INFO)"
   ]
  },
  {
   "cell_type": "code",
   "execution_count": null,
   "id": "a835dc8a-73d5-413d-90c2-c3c14a82f57b",
   "metadata": {},
   "outputs": [],
   "source": [
    "conn, cur = open_connection()"
   ]
  },
  {
   "cell_type": "code",
   "execution_count": null,
   "id": "35e9716a-21aa-4589-af63-f6cb662dfcbb",
   "metadata": {},
   "outputs": [],
   "source": [
    "# sectors = get_sectors(conn, cur, 12) # AC - OK\n",
    "# sectors = get_sectors(conn, cur, 27) # AL\n",
    "# sectors = get_sectors(conn, cur, 13) # AM\n",
    "# sectors = get_sectors(conn, cur, 16) # AP\n",
    "# sectors = get_sectors(conn, cur, 29) # BA\n",
    "# sectors = get_sectors(conn, cur, 23) # CE\n",
    "# sectors = get_sectors(conn, cur, 53) # DF\n",
    "# sectors = get_sectors(conn, cur, 32) # ES\n",
    "# sectors = get_sectors(conn, cur, 52) # GO\n",
    "# sectors = get_sectors(conn, cur, 21) # MA\n",
    "# sectors = get_sectors(conn, cur, 31) # MG\n",
    "# sectors = get_sectors(conn, cur, 50) # MS\n",
    "# sectors = get_sectors(conn, cur, 51) # MT\n",
    "# sectors = get_sectors(conn, cur, 15) # PA\n",
    "# sectors = get_sectors(conn, cur, 25) # PB\n",
    "# sectors = get_sectors(conn, cur, 26) # PE\n",
    "# sectors = get_sectors(conn, cur, 22) # PI\n",
    "# sectors = get_sectors(conn, cur, 41) # PR\n",
    "# sectors = get_sectors(conn, cur, 33) # RJ\n",
    "# sectors = get_sectors(conn, cur, 24) # RN\n",
    "# sectors = get_sectors(conn, cur, 11) # RO\n",
    "# sectors = get_sectors(conn, cur, 14) # RR\n",
    "# sectors = get_sectors(conn, cur, 43) # RS\n",
    "# sectors = get_sectors(conn, cur, 42) # SC\n",
    "# sectors = get_sectors(conn, cur, 28) # SE\n",
    "# sectors = get_sectors(conn, cur, 35) # SP\n",
    "# sectors = get_sectors(conn, cur, 17) # TO"
   ]
  },
  {
   "cell_type": "code",
   "execution_count": null,
   "id": "f9c332c0-8c94-44fd-ba8f-8a7877e91c71",
   "metadata": {},
   "outputs": [],
   "source": [
    "logger.info(f\"{len(sectors)} found.\")"
   ]
  },
  {
   "cell_type": "code",
   "execution_count": null,
   "id": "50e2583f-cbe3-465f-9b79-7fc0348df60c",
   "metadata": {},
   "outputs": [],
   "source": [
    "%%time\n",
    "for sector in sectors:\n",
    "    male_adults = get_adults(conn, cur, 'populacao_residente_mas', sector)\n",
    "    male_total = get_total(conn, cur, 'populacao_residente_mas', sector)\n",
    "    \n",
    "    female_adults = get_adults(conn, cur, 'populacao_residente_fem', sector)\n",
    "    female_total = get_total(conn, cur, 'populacao_residente_fem', sector)\n",
    "    \n",
    "    try:\n",
    "        idx_male = male_adults / male_total\n",
    "    except Exception as e:\n",
    "        idx_male = 'NULL'\n",
    "        \n",
    "    try:\n",
    "        idx_female = female_adults / female_total\n",
    "    except Exception as e:\n",
    "        idx_female = 'NULL'\n",
    "        \n",
    "    try:\n",
    "        idx_total = (male_adults + female_adults) / (male_total + female_total)\n",
    "    except Exception as e:\n",
    "        idx_total = 'NULL'\n",
    "        \n",
    "    insert_data(conn, cur, sector, [idx_male, idx_female, idx_total])"
   ]
  },
  {
   "cell_type": "code",
   "execution_count": null,
   "id": "4e3e8ae6-df98-4ca7-a946-73ef0dd5841d",
   "metadata": {},
   "outputs": [],
   "source": [
    "close_connection(conn, cur)"
   ]
  }
 ],
 "metadata": {
  "kernelspec": {
   "display_name": "Python 3.8.10 ('.venv': venv)",
   "language": "python",
   "name": "python3810jvsc74a57bd0d042c0f8cf2cbf3fc3853e40e17860ef2f5f3af1aa87cf2b65d717551d220c91"
  },
  "language_info": {
   "codemirror_mode": {
    "name": "ipython",
    "version": 3
   },
   "file_extension": ".py",
   "mimetype": "text/x-python",
   "name": "python",
   "nbconvert_exporter": "python",
   "pygments_lexer": "ipython3",
   "version": "3.8.10"
  }
 },
 "nbformat": 4,
 "nbformat_minor": 5
}
